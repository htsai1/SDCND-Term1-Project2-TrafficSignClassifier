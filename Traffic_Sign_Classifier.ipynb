{
 "cells": [
  {
   "cell_type": "markdown",
   "metadata": {},
   "source": [
    "# Self-Driving Car Engineer Nanodegree\n",
    "\n",
    "## Deep Learning\n",
    "\n",
    "## Project: Build a Traffic Sign Recognition Classifier\n",
    "\n",
    "In this notebook, a template is provided for you to implement your functionality in stages, which is required to successfully complete this project. If additional code is required that cannot be included in the notebook, be sure that the Python code is successfully imported and included in your submission if necessary. \n",
    "\n",
    "> **Note**: Once you have completed all of the code implementations, you need to finalize your work by exporting the iPython Notebook as an HTML document. Before exporting the notebook to html, all of the code cells need to have been run so that reviewers can see the final implementation and output. You can then export the notebook by using the menu above and navigating to  \\n\",\n",
    "    \"**File -> Download as -> HTML (.html)**. Include the finished document along with this notebook as your submission. \n",
    "\n",
    "In addition to implementing code, there is a writeup to complete. The writeup should be completed in a separate file, which can be either a markdown file or a pdf document. There is a [write up template](https://github.com/udacity/CarND-Traffic-Sign-Classifier-Project/blob/master/writeup_template.md) that can be used to guide the writing process. Completing the code template and writeup template will cover all of the [rubric points](https://review.udacity.com/#!/rubrics/481/view) for this project.\n",
    "\n",
    "The [rubric](https://review.udacity.com/#!/rubrics/481/view) contains \"Stand Out Suggestions\" for enhancing the project beyond the minimum requirements. The stand out suggestions are optional. If you decide to pursue the \"stand out suggestions\", you can include the code in this Ipython notebook and also discuss the results in the writeup file.\n",
    "\n",
    "\n",
    ">**Note:** Code and Markdown cells can be executed using the **Shift + Enter** keyboard shortcut. In addition, Markdown cells can be edited by typically double-clicking the cell to enter edit mode."
   ]
  },
  {
   "cell_type": "markdown",
   "metadata": {},
   "source": [
    "---\n",
    "## Step 0: Load The Data"
   ]
  },
  {
   "cell_type": "code",
   "execution_count": 2,
   "metadata": {
    "collapsed": true
   },
   "outputs": [],
   "source": [
    "# Load pickled data\n",
    "import pickle\n",
    "\n",
    "# TODO: Fill this in based on where you saved the training and testing data\n",
    "training_file =\"traffic_signs_data/train.p\"\n",
    "validation_file =\"traffic_signs_data/valid.p\"\n",
    "testing_file =\"traffic_signs_data/test.p\"\n",
    "\n",
    "with open(training_file, mode='rb') as f:\n",
    "    train = pickle.load(f)\n",
    "with open(validation_file, mode='rb') as f:\n",
    "    valid = pickle.load(f)\n",
    "with open(testing_file, mode='rb') as f:\n",
    "    test = pickle.load(f)\n",
    "    \n",
    "X_train, y_train = train['features'], train['labels']\n",
    "X_valid, y_valid = valid['features'], valid['labels']\n",
    "X_test, y_test = test['features'], test['labels']\n",
    "\n",
    "#Verify the number of images in each set match the number of labels in the same set\n",
    "assert(len(X_train) == len(y_train))\n",
    "assert(len(X_valid) == len(y_valid))\n",
    "assert(len(X_test) == len(y_test))\n"
   ]
  },
  {
   "cell_type": "markdown",
   "metadata": {},
   "source": [
    "---\n",
    "\n",
    "## Step 1: Dataset Summary & Exploration\n",
    "\n",
    "The pickled data is a dictionary with 4 key/value pairs:\n",
    "\n",
    "- `'features'` is a 4D array containing raw pixel data of the traffic sign images, (num examples, width, height, channels).\n",
    "- `'labels'` is a 1D array containing the label/class id of the traffic sign. The file `signnames.csv` contains id -> name mappings for each id.\n",
    "- `'sizes'` is a list containing tuples, (width, height) representing the original width and height the image.\n",
    "- `'coords'` is a list containing tuples, (x1, y1, x2, y2) representing coordinates of a bounding box around the sign in the image. **THESE COORDINATES ASSUME THE ORIGINAL IMAGE. THE PICKLED DATA CONTAINS RESIZED VERSIONS (32 by 32) OF THESE IMAGES**\n",
    "\n",
    "Complete the basic data summary below. Use python, numpy and/or pandas methods to calculate the data summary rather than hard coding the results. For example, the [pandas shape method](http://pandas.pydata.org/pandas-docs/stable/generated/pandas.DataFrame.shape.html) might be useful for calculating some of the summary results. "
   ]
  },
  {
   "cell_type": "markdown",
   "metadata": {},
   "source": [
    "### Provide a Basic Summary of the Data Set Using Python, Numpy and/or Pandas"
   ]
  },
  {
   "cell_type": "code",
   "execution_count": 3,
   "metadata": {},
   "outputs": [
    {
     "name": "stdout",
     "output_type": "stream",
     "text": [
      "Image Shape: (32, 32, 3)\n",
      "Number of training examples = 34799\n",
      "Number of validation examples = 4410\n",
      "Number of testing examples = 12630\n",
      "Image data shape = 34799\n",
      "Number of classes = 43\n"
     ]
    }
   ],
   "source": [
    "### Replace each question mark with the appropriate value. \n",
    "### Use python, pandas or numpy methods rather than hard coding the results\n",
    "\n",
    "import numpy as np\n",
    "\n",
    "# TODO: Number of training examples\n",
    "n_train = X_train.shape[0] \n",
    "#or python inbuild function len(X_train)\n",
    "\n",
    "# TODO: Number of validation examples\n",
    "n_validation = X_valid.shape[0]\n",
    "\n",
    "# TODO: Number of testing examples.\n",
    "n_test = X_test.shape[0]\n",
    "\n",
    "# TODO: What's the shape of an traffic sign image?\n",
    "image_shape = X_train.shape[0]\n",
    "\n",
    "# TODO: How many unique classes/labels there are in the dataset.\n",
    "n_classes = np.size(np.unique(y_train))\n",
    "\n",
    "\n",
    "#Print out the shape of one image so we know what dimentions of the data are\n",
    "print(\"Image Shape: {}\".format(X_train[0].shape))\n",
    "\n",
    "#Print out the size of each set\n",
    "print(\"Number of training examples =\", n_train)\n",
    "print(\"Number of validation examples =\", n_validation)\n",
    "print(\"Number of testing examples =\", n_test)\n",
    "print(\"Image data shape =\", image_shape)\n",
    "print(\"Number of classes =\", n_classes)"
   ]
  },
  {
   "cell_type": "markdown",
   "metadata": {},
   "source": [
    "### Include an exploratory visualization of the dataset"
   ]
  },
  {
   "cell_type": "markdown",
   "metadata": {},
   "source": [
    "Visualize the German Traffic Signs Dataset using the pickled file(s). This is open ended, suggestions include: plotting traffic sign images, plotting the count of each sign, etc. \n",
    "\n",
    "The [Matplotlib](http://matplotlib.org/) [examples](http://matplotlib.org/examples/index.html) and [gallery](http://matplotlib.org/gallery.html) pages are a great resource for doing visualizations in Python.\n",
    "\n",
    "**NOTE:** It's recommended you start with something simple first. If you wish to do more, come back to it after you've completed the rest of the sections. It can be interesting to look at the distribution of classes in the training, validation and test set. Is the distribution the same? Are there more examples of some classes than others?"
   ]
  },
  {
   "cell_type": "code",
   "execution_count": 5,
   "metadata": {},
   "outputs": [
    {
     "name": "stdout",
     "output_type": "stream",
     "text": [
      "Below are some random samples of traffic signs data:\n"
     ]
    },
    {
     "data": {
      "image/png": "[encoded data removed]",
      "text/plain": [
       "<matplotlib.figure.Figure at 0x7f26be0>"
      ]
     },
     "metadata": {},
     "output_type": "display_data"
    },
    {
     "name": "stdout",
     "output_type": "stream",
     "text": [
      "\n",
      " Below is the samples distribution list:\n",
      "Label                                             Count                           \n",
      "Speed limit (20km/h)                               180                             \n",
      "Speed limit (30km/h)                               1980                            \n",
      "Speed limit (50km/h)                               2010                            \n",
      "Speed limit (60km/h)                               1260                            \n",
      "Speed limit (70km/h)                               1770                            \n",
      "Speed limit (80km/h)                               1650                            \n",
      "End of speed limit (80km/h)                        360                             \n",
      "Speed limit (100km/h)                              1290                            \n",
      "Speed limit (120km/h)                              1260                            \n",
      "No passing                                         1320                            \n",
      "No passing for vehicles over 3.5 metric tons       1800                            \n",
      "Right-of-way at the next intersection              1170                            \n",
      "Priority road                                      1890                            \n",
      "Yield                                              1920                            \n",
      "Stop                                               690                             \n",
      "No vehicles                                        540                             \n",
      "Vehicles over 3.5 metric tons prohibited           360                             \n",
      "No entry                                           990                             \n",
      "General caution                                    1080                            \n",
      "Dangerous curve to the left                        180                             \n",
      "Dangerous curve to the right                       300                             \n",
      "Double curve                                       270                             \n",
      "Bumpy road                                         330                             \n",
      "Slippery road                                      450                             \n",
      "Road narrows on the right                          240                             \n",
      "Road work                                          1350                            \n",
      "Traffic signals                                    540                             \n",
      "Pedestrians                                        210                             \n",
      "Children crossing                                  480                             \n",
      "Bicycles crossing                                  240                             \n",
      "Beware of ice/snow                                 390                             \n",
      "Wild animals crossing                              690                             \n",
      "End of all speed and passing limits                210                             \n",
      "Turn right ahead                                   599                             \n",
      "Turn left ahead                                    360                             \n",
      "Ahead only                                         1080                            \n",
      "Go straight or right                               330                             \n",
      "Go straight or left                                180                             \n",
      "Keep right                                         1860                            \n",
      "Keep left                                          270                             \n",
      "Roundabout mandatory                               300                             \n",
      "End of no passing                                  420                             \n"
     ]
    }
   ],
   "source": [
    "### Data exploration visualization code goes here.\n",
    "### Feel free to use as many code cells as needed.\n",
    "\n",
    "#Use matplotlib to visualize the data and print out the lavel name of that image\n",
    "import matplotlib.pyplot as plt\n",
    "# Visualizations will be shown in the notebook.\n",
    "%matplotlib inline\n",
    "\n",
    "#To visualize the signs dataset: Per project suggestions:plotting traffic sign images and plotting the count of each sign\n",
    "import random\n",
    "import csv\n",
    "\n",
    "def read_label_name(filename):\n",
    "    with open(filename, newline='', encoding=\"utf8\") as csvfile:\n",
    "        spamreader = csv.reader(csvfile)\n",
    "        values = [x[1] for x in spamreader][1:]\n",
    "        return values\n",
    "\n",
    "label_names = read_label_name('signnames.csv')\n",
    "\n",
    "#Plotting traffic sign images\n",
    "def plot_sign_image(n_samples, images, labels, randomize = False):\n",
    "    for sample_n in range(n_samples):\n",
    "        if randomize:\n",
    "            n = random.randint(0, len(images))\n",
    "        else:\n",
    "            n = sample_n\n",
    "        ax = plt.subplot(np.ceil(n_samples/3),3,sample_n+1)\n",
    "        ax.set_title(label_names[labels[n]], fontsize=10)\n",
    "        ax.imshow(images[n])\n",
    "        ax.set_yticklabels([])\n",
    "        ax.set_xticklabels([])\n",
    "    plt.tight_layout()\n",
    "    plt.show()\n",
    "    \n",
    "#Plotting the count of each sign\n",
    "def print_train_labels_count():\n",
    "    print()\n",
    "    print(\" Below is the samples distribution list:\")\n",
    "    print(\"%-50s%-32s\" % (\"Label\", \"Count\"))\n",
    "    histogram = np.histogram(y_train, bins=np.arange(43))\n",
    "    for i in range(len(histogram[0])):\n",
    "        print(\"%-50s %-32d\" % (label_names[histogram[1][i]], histogram[0][i]))\n",
    "    \n",
    "print(\"Below are some random samples of traffic signs data:\")\n",
    "plot_sign_image(6, X_train, y_train, randomize = True)\n",
    "\n",
    "print_train_labels_count()"
   ]
  },
  {
   "cell_type": "markdown",
   "metadata": {},
   "source": [
    "----\n",
    "\n",
    "## Step 2: Design and Test a Model Architecture\n",
    "\n",
    "Design and implement a deep learning model that learns to recognize traffic signs. Train and test your model on the [German Traffic Sign Dataset](http://benchmark.ini.rub.de/?section=gtsrb&subsection=dataset).\n",
    "\n",
    "The LeNet-5 implementation shown in the [classroom](https://classroom.udacity.com/nanodegrees/nd013/parts/fbf77062-5703-404e-b60c-95b78b2f3f9e/modules/6df7ae49-c61c-4bb2-a23e-6527e69209ec/lessons/601ae704-1035-4287-8b11-e2c2716217ad/concepts/d4aca031-508f-4e0b-b493-e7b706120f81) at the end of the CNN lesson is a solid starting point. You'll have to change the number of classes and possibly the preprocessing, but aside from that it's plug and play! \n",
    "\n",
    "With the LeNet-5 solution from the lecture, you should expect a validation set accuracy of about 0.89. To meet specifications, the validation set accuracy will need to be at least 0.93. It is possible to get an even higher accuracy, but 0.93 is the minimum for a successful project submission. \n",
    "\n",
    "There are various aspects to consider when thinking about this problem:\n",
    "\n",
    "- Neural network architecture (is the network over or underfitting?)\n",
    "- Play around preprocessing techniques (normalization, rgb to grayscale, etc)\n",
    "- Number of examples per label (some have more than others).\n",
    "- Generate fake data.\n",
    "\n",
    "Here is an example of a [published baseline model on this problem](http://yann.lecun.com/exdb/publis/pdf/sermanet-ijcnn-11.pdf). It's not required to be familiar with the approach used in the paper but, it's good practice to try to read papers like these."
   ]
  },
  {
   "cell_type": "markdown",
   "metadata": {},
   "source": [
    "### Pre-process the Data Set (normalization, grayscale, etc.)"
   ]
  },
  {
   "cell_type": "markdown",
   "metadata": {},
   "source": [
    "Minimally, the image data should be normalized so that the data has mean zero and equal variance. For image data, `(pixel - 128)/ 128` is a quick way to approximately normalize the data and can be used in this project. \n",
    "\n",
    "Other pre-processing steps are optional. You can try different techniques to see if it improves performance. \n",
    "\n",
    "Use the code cell (or multiple code cells, if necessary) to implement the first step of your project."
   ]
  },
  {
   "cell_type": "code",
   "execution_count": 6,
   "metadata": {},
   "outputs": [
    {
     "name": "stdout",
     "output_type": "stream",
     "text": [
      "Image Shape After Transfered to Grayscale: (32, 32, 1)\n"
     ]
    }
   ],
   "source": [
    "### Preprocess the data here. It is required to normalize the data. Other preprocessing steps could include \n",
    "### converting to grayscale, etc.\n",
    "### Feel free to use as many code cells as needed.\n",
    "\n",
    "\n",
    "#Shuffle the training data ensure our training isn't biased by the order of the images.\n",
    "from sklearn.utils import shuffle\n",
    "X_train, y_train = shuffle(X_train, y_train)\n",
    "\n",
    "\n",
    "#Converting the image from RGB to grayscale. Reference stackflow.\n",
    "def rgb2gray(rgb):\n",
    "    mix = np.array([0.299, 0.587, 0.114]).reshape(-1,1) \n",
    "    return np.dot(rgb[...,:3], mix)\n",
    "\n",
    "#For the better numerical stability, normalize the data to be close to orgin, between -1.0 and 0.1\n",
    "#Mathematical reasons to keep value you compute roughly around a mean of zero when you do the optimization is: Easier for optimizer for doing searching and find a good solution\n",
    "def normalize_image(image):\n",
    "    return (image - image.mean()) / image.std()\n",
    "    #normalized_image = (image - [128])/128\n",
    "\n",
    "#Preprocessing Data Pipeline\n",
    "X_train = normalize_image(rgb2gray(X_train))\n",
    "X_valid = normalize_image(rgb2gray(X_valid))\n",
    "X_test = normalize_image(rgb2gray(X_test))\n",
    "\n",
    "#to ensure now the image depth is 1 because from RGB to grayscale now\n",
    "print(\"Image Shape After Transfered to Grayscale: {}\".format(X_train[0].shape))"
   ]
  },
  {
   "cell_type": "markdown",
   "metadata": {},
   "source": [
    "### Model Architecture"
   ]
  },
  {
   "cell_type": "code",
   "execution_count": 7,
   "metadata": {
    "collapsed": true
   },
   "outputs": [],
   "source": [
    "### Define your architecture here.\n",
    "### Feel free to use as many code cells as needed.\n",
    "\n",
    "#Start building deep neural network\n",
    "#Reference LeNet Architecture from lesson\n",
    "\n",
    "import tensorflow as tf\n",
    "\n",
    "EPOCHS = 20\n",
    "BATCH_SIZE = 128\n",
    "\n",
    "from tensorflow.contrib.layers import flatten\n",
    "\n",
    "def LeNet(x):    \n",
    "    #Arguments used for tf.truncated_normal, randomly defines variables for the weights and biases for each layer\n",
    "    #Setting hyperparameters\n",
    "    mu = 0\n",
    "    sigma = 0.1\n",
    "    \n",
    "    \n",
    "    ### Layer 1 ###\n",
    "    #Convolution: Input= 32x32x1 -> Output= 28x28x6.\n",
    "    conv1_W = tf.Variable(tf.truncated_normal(shape=(5, 5, 1, 6), mean = mu, stddev = sigma))\n",
    "    conv1_b = tf.Variable(tf.zeros(6))\n",
    "    conv1   = tf.nn.conv2d(x, conv1_W, strides=[1, 1, 1, 1], padding='VALID') + conv1_b\n",
    "\n",
    "    #Activation- activate the output of 1st convnet\n",
    "    conv1 = tf.nn.relu(conv1)\n",
    "\n",
    "    #Pooling: Input= 28x28x6. Output= 14x14x6.\n",
    "    conv1 = tf.nn.max_pool(conv1, ksize=[1, 2, 2, 1], strides=[1, 2, 2, 1], padding='VALID')\n",
    "\n",
    "    \n",
    "    ### Layer 2 ###\n",
    "    #Convolution: Input from conv1= 14x14x6-> Output= 10x10x16.\n",
    "    conv2_W = tf.Variable(tf.truncated_normal(shape=(5, 5, 6, 16), mean = mu, stddev = sigma))\n",
    "    conv2_b = tf.Variable(tf.zeros(16))\n",
    "    conv2   = tf.nn.conv2d(conv1, conv2_W, strides=[1, 1, 1, 1], padding='VALID') + conv2_b\n",
    "    \n",
    "    #Activation \n",
    "    conv2 = tf.nn.relu(conv2)\n",
    "\n",
    "    #Pooling: Input= 10x10x16. Output= 5x5x16.\n",
    "    conv2 = tf.nn.max_pool(conv2, ksize=[1, 2, 2, 1], strides=[1, 2, 2, 1], padding='VALID')\n",
    "\n",
    "    \n",
    "    #Flatten the conv2into a vector. Input= 5x5x16. Output = 400.\n",
    "    fc0   = flatten(conv2)\n",
    "    \n",
    "    ### Layer 3 ###\n",
    "    #Pass the vector into a Fully Connected Layer. Input = 400. Output = 120.\n",
    "    fc1_W = tf.Variable(tf.truncated_normal(shape=(400, 120), mean = mu, stddev = sigma))\n",
    "    fc1_b = tf.Variable(tf.zeros(120))\n",
    "    fc1   = tf.matmul(fc0, fc1_W) + fc1_b\n",
    "    \n",
    "    #Activation\n",
    "    fc1   = tf.nn.relu(fc1)\n",
    "\n",
    "    ### Layer 4 ###\n",
    "    #Pass the vector into a Fully Connected Layer. Input = 120. Output = 84.\n",
    "    fc2_W  = tf.Variable(tf.truncated_normal(shape=(120, 84), mean = mu, stddev = sigma))\n",
    "    fc2_b  = tf.Variable(tf.zeros(84))\n",
    "    fc2    = tf.matmul(fc1, fc2_W) + fc2_b\n",
    "    \n",
    "    #Activation\n",
    "    fc2    = tf.nn.relu(fc2)\n",
    "\n",
    "    # Dropout (dropout_prob)\n",
    "    fc2 = tf.nn.dropout(fc2, dropout_prob)\n",
    "    \n",
    "    # Layer 5: Fully Connected. Input = 84. Output = 43.\n",
    "    fc3_W  = tf.Variable(tf.truncated_normal(shape=(84, 43), mean = mu, stddev = sigma))\n",
    "    fc3_b  = tf.Variable(tf.zeros(43))\n",
    "    logits = tf.matmul(fc2, fc3_W) + fc3_b\n",
    "    \n",
    "    return logits\n",
    "\n",
    "# Model Network Architecture finished, ready to put it into use\n",
    "\n"
   ]
  },
  {
   "cell_type": "markdown",
   "metadata": {},
   "source": [
    "### Train, Validate and Test the Model"
   ]
  },
  {
   "cell_type": "markdown",
   "metadata": {},
   "source": [
    "A validation set can be used to assess how well the model is performing. A low accuracy on the training and validation\n",
    "sets imply underfitting. A high accuracy on the training set but low accuracy on the validation set implies overfitting."
   ]
  },
  {
   "cell_type": "code",
   "execution_count": 8,
   "metadata": {
    "collapsed": true
   },
   "outputs": [],
   "source": [
    "### Train your model here.\n",
    "### Calculate and report the accuracy on the training and validation set.\n",
    "### Once a final model architecture is selected, \n",
    "### the accuracy on the test set should be calculated and reported as well.\n",
    "### Feel free to use as many code cells as needed."
   ]
  },
  {
   "cell_type": "code",
   "execution_count": 9,
   "metadata": {
    "collapsed": true
   },
   "outputs": [],
   "source": [
    "#Setup TensorFlow Variables:\n",
    "#X is the placeholder will store the input batches\n",
    "#initialize the batch size to none so it can accept batch of any size\n",
    "#y is the placeholder will store the labels\n",
    "\n",
    "x = tf.placeholder(tf.float32, (None, 32, 32,1))\n",
    "y = tf.placeholder(tf.int32, (None))\n",
    "one_hot_y = tf.one_hot(y, n_classes)\n",
    "\n",
    "dropout_prob = tf.placeholder(tf.float32) # dropout probability to keep units\n"
   ]
  },
  {
   "cell_type": "code",
   "execution_count": 10,
   "metadata": {
    "collapsed": true
   },
   "outputs": [],
   "source": [
    "#Setup Training pipeline:\n",
    "rate = 0.001     \n",
    "\n",
    "logits = LeNet(x)\n",
    "cross_entropy = tf.nn.softmax_cross_entropy_with_logits(labels=one_hot_y, logits=logits)\n",
    "loss_operation = tf.reduce_mean(cross_entropy)\n",
    "optimizer = tf.train.AdamOptimizer(learning_rate = rate)\n",
    "training_operation = optimizer.minimize(loss_operation) #use backpropagation "
   ]
  },
  {
   "cell_type": "code",
   "execution_count": 11,
   "metadata": {
    "collapsed": true
   },
   "outputs": [],
   "source": [
    "#Setup Evaluation pipeline: (Evaluate how good the model is)\n",
    "correct_prediction = tf.equal(tf.argmax(logits, 1), tf.argmax(one_hot_y, 1))   #Individual prediction accuracy\n",
    "accuracy_operation = tf.reduce_mean(tf.cast(correct_prediction, tf.float32))   #Model overall accuracy\n",
    "\n",
    "\n",
    "#Setup Evaluation Function:\n",
    "def evaluate(X_data, y_data):\n",
    "    num_examples = len(X_data)\n",
    "    total_accuracy = 0\n",
    "    sess = tf.get_default_session()\n",
    "    for offset in range(0, num_examples, BATCH_SIZE):\n",
    "        batch_x, batch_y = X_data[offset:offset+BATCH_SIZE], y_data[offset:offset+BATCH_SIZE]\n",
    "        accuracy = sess.run(accuracy_operation, feed_dict={x: batch_x, y: batch_y, dropout_prob: 1})\n",
    "        total_accuracy += (accuracy * len(batch_x))\n",
    "    return total_accuracy / num_examples\n",
    "\n",
    "\n"
   ]
  },
  {
   "cell_type": "code",
   "execution_count": 12,
   "metadata": {},
   "outputs": [
    {
     "name": "stdout",
     "output_type": "stream",
     "text": [
      "Training...\n",
      "\n",
      "EPOCH 1 ...\n",
      "Validation Accuracy = 0.782\n",
      "\n",
      "EPOCH 2 ...\n",
      "Validation Accuracy = 0.891\n",
      "\n",
      "EPOCH 3 ...\n",
      "Validation Accuracy = 0.922\n",
      "\n",
      "EPOCH 4 ...\n",
      "Validation Accuracy = 0.936\n",
      "\n",
      "EPOCH 5 ...\n",
      "Validation Accuracy = 0.939\n",
      "\n",
      "EPOCH 6 ...\n",
      "Validation Accuracy = 0.942\n",
      "\n",
      "EPOCH 7 ...\n",
      "Validation Accuracy = 0.936\n",
      "\n",
      "EPOCH 8 ...\n",
      "Validation Accuracy = 0.944\n",
      "\n",
      "EPOCH 9 ...\n",
      "Validation Accuracy = 0.951\n",
      "\n",
      "EPOCH 10 ...\n",
      "Validation Accuracy = 0.947\n",
      "\n",
      "EPOCH 11 ...\n",
      "Validation Accuracy = 0.951\n",
      "\n",
      "EPOCH 12 ...\n",
      "Validation Accuracy = 0.951\n",
      "\n",
      "EPOCH 13 ...\n",
      "Validation Accuracy = 0.951\n",
      "\n",
      "EPOCH 14 ...\n",
      "Validation Accuracy = 0.949\n",
      "\n",
      "EPOCH 15 ...\n",
      "Validation Accuracy = 0.950\n",
      "\n",
      "EPOCH 16 ...\n",
      "Validation Accuracy = 0.946\n",
      "\n",
      "EPOCH 17 ...\n",
      "Validation Accuracy = 0.952\n",
      "\n",
      "EPOCH 18 ...\n",
      "Validation Accuracy = 0.953\n",
      "\n",
      "EPOCH 19 ...\n",
      "Validation Accuracy = 0.952\n",
      "\n",
      "EPOCH 20 ...\n",
      "Validation Accuracy = 0.956\n",
      "\n",
      "Model saved\n"
     ]
    }
   ],
   "source": [
    "with tf.Session() as sess:\n",
    "    sess.run(tf.global_variables_initializer())\n",
    "    num_examples = len(X_train)\n",
    "    \n",
    "    print(\"Training...\")\n",
    "    print()\n",
    "    for i in range(EPOCHS):\n",
    "        X_train, y_train = shuffle(X_train, y_train) #shuffle\n",
    "        for offset in range(0, num_examples, BATCH_SIZE):\n",
    "            end = offset + BATCH_SIZE\n",
    "            batch_x, batch_y = X_train[offset:end], y_train[offset:end]\n",
    "            sess.run(training_operation, feed_dict={x: batch_x, y: batch_y, dropout_prob: 0.65})\n",
    "        \n",
    "        #At the ned of each epoch, evaluate the model on the validation data\n",
    "        validation_accuracy = evaluate(X_valid, y_valid)\n",
    "        print(\"EPOCH {} ...\".format(i+1))\n",
    "        print(\"Validation Accuracy = {:.3f}\".format(validation_accuracy))\n",
    "        print()\n",
    "   \n",
    "    #once completely trained the model the save it, \n",
    "    #can be used later for further modify or used to evaluate it on test dataset  \n",
    "    try:\n",
    "        saver\n",
    "    except NameError:\n",
    "        saver = tf.train.Saver()\n",
    "    saver.save(sess, './lenet')\n",
    "    print(\"Model saved\")"
   ]
  },
  {
   "cell_type": "code",
   "execution_count": 105,
   "metadata": {},
   "outputs": [
    {
     "name": "stdout",
     "output_type": "stream",
     "text": [
      "Test Accuracy = 0.932\n"
     ]
    }
   ],
   "source": [
    "#Validate the test with test set\n",
    "\n",
    "with tf.Session() as sess:\n",
    "    sess.run(tf.global_variables_initializer())\n",
    "    saver.restore(sess, './lenet')\n",
    "\n",
    "    test_accuracy = evaluate(X_test, y_test)\n",
    "    print(\"Test Accuracy = {:.3f}\".format(test_accuracy))   "
   ]
  },
  {
   "cell_type": "markdown",
   "metadata": {},
   "source": [
    "---\n",
    "\n",
    "## Step 3: Test a Model on New Images\n",
    "\n",
    "To give yourself more insight into how your model is working, download at least five pictures of German traffic signs from the web and use your model to predict the traffic sign type.\n",
    "\n",
    "You may find `signnames.csv` useful as it contains mappings from the class id (integer) to the actual sign name."
   ]
  },
  {
   "cell_type": "markdown",
   "metadata": {},
   "source": [
    "### Load and Output the Images"
   ]
  },
  {
   "cell_type": "code",
   "execution_count": 178,
   "metadata": {
    "scrolled": true
   },
   "outputs": [
    {
     "name": "stdout",
     "output_type": "stream",
     "text": [
      "(7, 32, 32, 1)\n"
     ]
    },
    {
     "data": {
      "image/png": "[encoded data removed]",
      "text/plain": [
       "<matplotlib.figure.Figure at 0x1c5b95c0>"
      ]
     },
     "metadata": {},
     "output_type": "display_data"
    }
   ],
   "source": [
    "### Load the downloaded German Traffic Signs images and plot them here.\n",
    "\n",
    "import os\n",
    "import matplotlib.pyplot as plt\n",
    "import matplotlib.image as mpimg\n",
    "import csv\n",
    "import glob\n",
    "import numpy as np\n",
    "\n",
    "img_files = glob.glob('downloaded_images/*')\n",
    "fig = plt.figure(figsize=(10, 14))\n",
    "n_images = len(img_files)\n",
    "\n",
    "downloaded_test_images = []\n",
    "\n",
    "for i in range(n_images):\n",
    "    downloaded_image = mpimg.imread(img_files[i])\n",
    "    downloaded_image = cv2.resize(downloaded_image, (32, 32))\n",
    "    plt.subplot(6, 3, i+1)\n",
    "    plt.axis('off')\n",
    "    plt.imshow(downloaded_image)\n",
    "    plt.title(i, fontsize = 20)\n",
    "    downloaded_image_norm = normalize_image(rgb2gray(downloaded_image))\n",
    "    downloaded_test_images.append(downloaded_image_norm)\n",
    "\n",
    "# Make into numpy array for processing\n",
    "downloaded_test_images=np.array(downloaded_test_images)\n",
    "print(downloaded_test_images.shape)"
   ]
  },
  {
   "cell_type": "markdown",
   "metadata": {},
   "source": [
    "### Predict the Sign Type for Each Image"
   ]
  },
  {
   "cell_type": "code",
   "execution_count": 187,
   "metadata": {},
   "outputs": [
    {
     "name": "stdout",
     "output_type": "stream",
     "text": [
      "predict:  [0] \ttruth:  0\n",
      "predict:  [13] \ttruth:  13\n",
      "predict:  [14] \ttruth:  14\n",
      "predict:  [27] \ttruth:  27\n",
      "predict:  [11] \ttruth:  28\n",
      "predict:  [40] \ttruth:  40\n",
      "predict:  [25] \ttruth:  4\n"
     ]
    }
   ],
   "source": [
    "### Run the predictions here and use the model to output the prediction for each image.\n",
    "### Make sure to pre-process the images with the same pre-processing pipeline used earlier.\n",
    "### Feel free to use as many code cells as needed.\n",
    "\n",
    "picked_labels = [0, 13, 14, 27, 28, 40, 4]\n",
    "\n",
    "with tf.Session() as sess:\n",
    "    saver.restore(sess,  \"./lenet\")\n",
    "    predict = sess.run(tf.nn.top_k(tf.nn.softmax(logits), k=1),feed_dict={x: downloaded_test_images, y: picked_labels, dropout_prob: 1.0})[1]\n",
    "for i in range(len(picked_labels)):\n",
    "    print('predict: ', predict[i], '\\ttruth: ',  picked_labels[i])"
   ]
  },
  {
   "cell_type": "code",
   "execution_count": null,
   "metadata": {},
   "outputs": [],
   "source": []
  },
  {
   "cell_type": "markdown",
   "metadata": {},
   "source": [
    "### Analyze Performance"
   ]
  },
  {
   "cell_type": "code",
   "execution_count": 185,
   "metadata": {},
   "outputs": [
    {
     "name": "stdout",
     "output_type": "stream",
     "text": [
      "Analyze performance of classifier on the new downloaded images...\n",
      "Accuracy = 0.714\n",
      "\n"
     ]
    }
   ],
   "source": [
    "### Calculate the accuracy for these 5 new images. \n",
    "### For example, if the model predicted 1 out of 5 signs correctly, it's 20% accurate on these new images.\n",
    "\n",
    "with tf.Session() as sess:\n",
    "    saver.restore(sess, \"./lenet\")\n",
    "    perf_accuracy = evaluate(downloaded_test_images, picked_labels)   \n",
    "    print(\"Analyze performance of classifier on the new downloaded images...\")\n",
    "    print(\"Accuracy = {:.3f}\".format(perf_accuracy)) \n",
    "    print()"
   ]
  },
  {
   "cell_type": "markdown",
   "metadata": {},
   "source": [
    "### Output Top 5 Softmax Probabilities For Each Image Found on the Web"
   ]
  },
  {
   "cell_type": "markdown",
   "metadata": {},
   "source": [
    "For each of the new images, print out the model's softmax probabilities to show the **certainty** of the model's predictions (limit the output to the top 5 probabilities for each image). [`tf.nn.top_k`](https://www.tensorflow.org/versions/r0.12/api_docs/python/nn.html#top_k) could prove helpful here. \n",
    "\n",
    "The example below demonstrates how tf.nn.top_k can be used to find the top k predictions for each image.\n",
    "\n",
    "`tf.nn.top_k` will return the values and indices (class ids) of the top k predictions. So if k=3, for each sign, it'll return the 3 largest probabilities (out of a possible 43) and the correspoding class ids.\n",
    "\n",
    "Take this numpy array as an example. The values in the array represent predictions. The array contains softmax probabilities for five candidate images with six possible classes. `tf.nn.top_k` is used to choose the three classes with the highest probability:\n",
    "\n",
    "```\n",
    "# (5, 6) array\n",
    "a = np.array([[ 0.24879643,  0.07032244,  0.12641572,  0.34763842,  0.07893497,\n",
    "         0.12789202],\n",
    "       [ 0.28086119,  0.27569815,  0.08594638,  0.0178669 ,  0.18063401,\n",
    "         0.15899337],\n",
    "       [ 0.26076848,  0.23664738,  0.08020603,  0.07001922,  0.1134371 ,\n",
    "         0.23892179],\n",
    "       [ 0.11943333,  0.29198961,  0.02605103,  0.26234032,  0.1351348 ,\n",
    "         0.16505091],\n",
    "       [ 0.09561176,  0.34396535,  0.0643941 ,  0.16240774,  0.24206137,\n",
    "         0.09155967]])\n",
    "```\n",
    "\n",
    "Running it through `sess.run(tf.nn.top_k(tf.constant(a), k=3))` produces:\n",
    "\n",
    "```\n",
    "TopKV2(values=array([[ 0.34763842,  0.24879643,  0.12789202],\n",
    "       [ 0.28086119,  0.27569815,  0.18063401],\n",
    "       [ 0.26076848,  0.23892179,  0.23664738],\n",
    "       [ 0.29198961,  0.26234032,  0.16505091],\n",
    "       [ 0.34396535,  0.24206137,  0.16240774]]), indices=array([[3, 0, 5],\n",
    "       [0, 1, 4],\n",
    "       [0, 5, 1],\n",
    "       [1, 3, 5],\n",
    "       [1, 4, 3]], dtype=int32))\n",
    "```\n",
    "\n",
    "Looking just at the first row we get `[ 0.34763842,  0.24879643,  0.12789202]`, you can confirm these are the 3 largest probabilities in `a`. You'll also notice `[3, 0, 5]` are the corresponding indices."
   ]
  },
  {
   "cell_type": "code",
   "execution_count": 211,
   "metadata": {},
   "outputs": [
    {
     "name": "stdout",
     "output_type": "stream",
     "text": [
      "probabilities: [  1.00000000e+00   1.05332625e-10   1.87824444e-21   1.00351266e-21\n",
      "   3.24242717e-24] \t labels:  [ 0  1  4 40  8] \t truth:  0\n",
      "probabilities: [  1.00000000e+00   1.96273895e-08   1.46083257e-09   2.56068153e-11\n",
      "   9.43878135e-12] \t labels:  [13 12 15 35 14] \t truth:  13\n",
      "probabilities: [  1.00000000e+00   6.70811497e-12   4.38436586e-14   1.90234604e-14\n",
      "   3.87231022e-15] \t labels:  [14  1 33  2 35] \t truth:  14\n",
      "probabilities: [  9.99950171e-01   4.98093978e-05   3.37205903e-13   4.52692251e-18\n",
      "   3.12576870e-27] \t labels:  [27 18 24 11 21] \t truth:  27\n",
      "probabilities: [  9.92034256e-01   7.92689435e-03   3.81749014e-05   6.39662915e-07\n",
      "   3.17683444e-08] \t labels:  [11 28 27 24 30] \t truth:  28\n",
      "probabilities: [  1.00000000e+00   2.04908068e-09   1.33923450e-09   1.97289803e-13\n",
      "   2.94751846e-14] \t labels:  [40 12 11 16 30] \t truth:  40\n",
      "probabilities: [  9.97779667e-01   1.53721636e-03   5.80452324e-04   8.35199098e-05\n",
      "   1.91086092e-05] \t labels:  [25 34 23 29 35] \t truth:  4\n"
     ]
    }
   ],
   "source": [
    "### Print out the top five softmax probabilities for the predictions on the German traffic sign images found on the web. \n",
    "### Feel free to use as many code cells as needed.\n",
    "with tf.Session() as sess:\n",
    "    saver.restore(sess, \"./lenet\")\n",
    "    predict = sess.run(tf.nn.top_k(tf.nn.softmax(logits), k=5),feed_dict={x: downloaded_test_images, y: picked_labels, dropout_prob: 1.0})\n",
    "for i in range(len(predict[0])):\n",
    "    print('probabilities:', predict[0][i], '\\t labels: ', predict[1][i], '\\t truth: ',  picked_labels[i])\n",
    " "
   ]
  },
  {
   "cell_type": "markdown",
   "metadata": {},
   "source": [
    "### Project Writeup\n",
    "\n",
    "Once you have completed the code implementation, document your results in a project writeup using this [template](https://github.com/udacity/CarND-Traffic-Sign-Classifier-Project/blob/master/writeup_template.md) as a guide. The writeup can be in a markdown or pdf file. "
   ]
  },
  {
   "cell_type": "markdown",
   "metadata": {},
   "source": [
    "> **Note**: Once you have completed all of the code implementations and successfully answered each question above, you may finalize your work by exporting the iPython Notebook as an HTML document. You can do this by using the menu above and navigating to  \\n\",\n",
    "    \"**File -> Download as -> HTML (.html)**. Include the finished document along with this notebook as your submission."
   ]
  },
  {
   "cell_type": "markdown",
   "metadata": {},
   "source": [
    "---\n",
    "\n",
    "## Step 4 (Optional): Visualize the Neural Network's State with Test Images\n",
    "\n",
    " This Section is not required to complete but acts as an additional excersise for understaning the output of a neural network's weights. While neural networks can be a great learning device they are often referred to as a black box. We can understand what the weights of a neural network look like better by plotting their feature maps. After successfully training your neural network you can see what it's feature maps look like by plotting the output of the network's weight layers in response to a test stimuli image. From these plotted feature maps, it's possible to see what characteristics of an image the network finds interesting. For a sign, maybe the inner network feature maps react with high activation to the sign's boundary outline or to the contrast in the sign's painted symbol.\n",
    "\n",
    " Provided for you below is the function code that allows you to get the visualization output of any tensorflow weight layer you want. The inputs to the function should be a stimuli image, one used during training or a new one you provided, and then the tensorflow variable name that represents the layer's state during the training process, for instance if you wanted to see what the [LeNet lab's](https://classroom.udacity.com/nanodegrees/nd013/parts/fbf77062-5703-404e-b60c-95b78b2f3f9e/modules/6df7ae49-c61c-4bb2-a23e-6527e69209ec/lessons/601ae704-1035-4287-8b11-e2c2716217ad/concepts/d4aca031-508f-4e0b-b493-e7b706120f81) feature maps looked like for it's second convolutional layer you could enter conv2 as the tf_activation variable.\n",
    "\n",
    "For an example of what feature map outputs look like, check out NVIDIA's results in their paper [End-to-End Deep Learning for Self-Driving Cars](https://devblogs.nvidia.com/parallelforall/deep-learning-self-driving-cars/) in the section Visualization of internal CNN State. NVIDIA was able to show that their network's inner weights had high activations to road boundary lines by comparing feature maps from an image with a clear path to one without. Try experimenting with a similar test to show that your trained network's weights are looking for interesting features, whether it's looking at differences in feature maps from images with or without a sign, or even what feature maps look like in a trained network vs a completely untrained one on the same sign image.\n",
    "\n",
    "<figure>\n",
    " <img src=\"visualize_cnn.png\" width=\"380\" alt=\"Combined Image\" />\n",
    " <figcaption>\n",
    " <p></p> \n",
    " <p style=\"text-align: center;\"> Your output should look something like this (above)</p> \n",
    " </figcaption>\n",
    "</figure>\n",
    " <p></p> \n"
   ]
  },
  {
   "cell_type": "code",
   "execution_count": null,
   "metadata": {
    "collapsed": true
   },
   "outputs": [],
   "source": [
    "### Visualize your network's feature maps here.\n",
    "### Feel free to use as many code cells as needed.\n",
    "\n",
    "# image_input: the test image being fed into the network to produce the feature maps\n",
    "# tf_activation: should be a tf variable name used during your training procedure that represents the calculated state of a specific weight layer\n",
    "# activation_min/max: can be used to view the activation contrast in more detail, by default matplot sets min and max to the actual min and max values of the output\n",
    "# plt_num: used to plot out multiple different weight feature map sets on the same block, just extend the plt number for each new feature map entry\n",
    "\n",
    "def outputFeatureMap(image_input, tf_activation, activation_min=-1, activation_max=-1 ,plt_num=1):\n",
    "    # Here make sure to preprocess your image_input in a way your network expects\n",
    "    # with size, normalization, ect if needed\n",
    "    # image_input =\n",
    "    # Note: x should be the same name as your network's tensorflow data placeholder variable\n",
    "    # If you get an error tf_activation is not defined it may be having trouble accessing the variable from inside a function\n",
    "    activation = tf_activation.eval(session=sess,feed_dict={x : image_input})\n",
    "    featuremaps = activation.shape[3]\n",
    "    plt.figure(plt_num, figsize=(15,15))\n",
    "    for featuremap in range(featuremaps):\n",
    "        plt.subplot(6,8, featuremap+1) # sets the number of feature maps to show on each row and column\n",
    "        plt.title('FeatureMap ' + str(featuremap)) # displays the feature map number\n",
    "        if activation_min != -1 & activation_max != -1:\n",
    "            plt.imshow(activation[0,:,:, featuremap], interpolation=\"nearest\", vmin =activation_min, vmax=activation_max, cmap=\"gray\")\n",
    "        elif activation_max != -1:\n",
    "            plt.imshow(activation[0,:,:, featuremap], interpolation=\"nearest\", vmax=activation_max, cmap=\"gray\")\n",
    "        elif activation_min !=-1:\n",
    "            plt.imshow(activation[0,:,:, featuremap], interpolation=\"nearest\", vmin=activation_min, cmap=\"gray\")\n",
    "        else:\n",
    "            plt.imshow(activation[0,:,:, featuremap], interpolation=\"nearest\", cmap=\"gray\")"
   ]
  }
 ],
 "metadata": {
  "anaconda-cloud": {},
  "kernelspec": {
   "display_name": "Python 3",
   "language": "python",
   "name": "python3"
  },
  "language_info": {
   "codemirror_mode": {
    "name": "ipython",
    "version": 3
   },
   "file_extension": ".py",
   "mimetype": "text/x-python",
   "name": "python",
   "nbconvert_exporter": "python",
   "pygments_lexer": "ipython3",
   "version": "3.5.4"
  }
 },
 "nbformat": 4,
 "nbformat_minor": 1
}
